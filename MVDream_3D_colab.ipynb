{
  "cells": [
    {
      "cell_type": "markdown",
      "metadata": {
        "id": "view-in-github"
      },
      "source": [
        "[![Open In Colab](https://colab.research.google.com/assets/colab-badge.svg)](https://colab.research.google.com/github/camenduru/MVDream-colab/blob/main/MVDream_3D_colab.ipynb)"
      ]
    },
    {
      "cell_type": "code",
      "execution_count": null,
      "metadata": {
        "id": "VjYy0F2gZIPR"
      },
      "outputs": [],
      "source": [
        "%cd /content\n",
        "!pip install -q xformers==0.0.20 pytorch-lightning jaxtyping libigl controlnet_aux diffusers transformers==4.28.1 \n",
        "!pip install -q open-clip-torch einops omegaconf imageio-ffmpeg trimesh wandb accelerate bitsandbytes tensorboard\n",
        "!pip install -q https://huggingface.co/camenduru/CoDeF/resolve/main/tinycudann-1.7-cp310-cp310-linux_x86_64.whl\n",
        "!pip install -q git+https://github.com/ashawkey/envlight.git\n",
        "!pip install -q git+https://github.com/NVlabs/nvdiffrast.git\n",
        "!pip install -q nerfacc -f https://nerfacc-bucket.s3.us-west-2.amazonaws.com/whl/torch-2.0.0_cu118.html\n",
        "!pip install -q git+https://github.com/openai/CLIP.git\n",
        "\n",
        "!git clone -b dev https://github.com/camenduru/MVDream\n",
        "%cd /content/MVDream\n",
        "!pip install -e .\n",
        "\n",
        "%cd /content\n",
        "!git clone -b dev https://github.com/camenduru/MVDream-threestudio"
      ]
    },
    {
      "cell_type": "code",
      "execution_count": null,
      "metadata": {},
      "outputs": [],
      "source": [
        "# MVDream without shading (memory efficient)\n",
        "%cd /content/MVDream-threestudio\n",
        "!python launch.py --config configs/mvdream-sd21.yaml --train --gpu 0 system.prompt_processor.prompt=\"an astronaut riding a horse\""
      ]
    },
    {
      "cell_type": "code",
      "execution_count": null,
      "metadata": {},
      "outputs": [],
      "source": [
        "# MVDream with shading (used in paper)\n",
        "%cd /content/MVDream-threestudio\n",
        "!python launch.py --config configs/mvdream-sd21-shading.yaml --train --gpu 0 system.prompt_processor.prompt=\"an astronaut riding a horse\""
      ]
    }
  ],
  "metadata": {
    "accelerator": "GPU",
    "colab": {
      "gpuType": "T4",
      "provenance": []
    },
    "kernelspec": {
      "display_name": "Python 3",
      "name": "python3"
    },
    "language_info": {
      "name": "python"
    }
  },
  "nbformat": 4,
  "nbformat_minor": 0
}
