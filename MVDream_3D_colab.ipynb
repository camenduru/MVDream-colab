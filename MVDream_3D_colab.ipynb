{
  "cells": [
    {
      "cell_type": "markdown",
      "metadata": {
        "id": "view-in-github"
      },
      "source": [
        "[![Open In Colab](https://colab.research.google.com/assets/colab-badge.svg)](https://colab.research.google.com/github/camenduru/MVDream-colab/blob/main/MVDream_3D_colab.ipynb)"
      ]
    },
    {
      "cell_type": "code",
      "execution_count": null,
      "metadata": {
        "id": "VjYy0F2gZIPR"
      },
      "outputs": [],
      "source": [
        "%cd /content\n",
        "!git clone -b dev https://github.com/camenduru/MVDream-threestudio\n",
        "\n",
        "# !pip install -q lightning omegaconf jaxtyping typeguard diffusers transformers accelerate imageio[ffmpeg] libigl xatlas trimesh[easy] pysdf PyMCubes wandb gradio\n",
        "# !pip install -q torchmetrics xformers bitsandbytes sentencepiece safetensors huggingface_hub einops kornia taming-transformers-rom1504 controlnet_aux open-clip-torch\n",
        "# !pip install -q git+https://github.com/KAIR-BAIR/nerfacc.git@v0.5.2 \n",
        "# !pip install -q git+https://github.com/NVlabs/tiny-cuda-nn/ \n",
        "# !pip install -q git+https://github.com/NVlabs/nvdiffrast.git \n",
        "# !pip install -q git+https://github.com/ashawkey/envlight.git \n",
        "# !pip install -q git+https://github.com/openai/CLIP.git\n",
        "\n",
        "!pip install -q lightning==2.0.0 omegaconf==2.3.0 jaxtyping typeguard diffusers transformers accelerate opencv-python tensorboard matplotlib \n",
        "!pip install -q imageio imageio[ffmpeg] trimesh bitsandbytes sentencepiece safetensors huggingface_hub libigl xatlas open3d plotly\n",
        "!pip install -q nerfacc -f https://nerfacc-bucket.s3.us-west-2.amazonaws.com/whl/torch-2.0.0_cu118.html\n",
        "!pip install -q https://huggingface.co/camenduru/CoDeF/resolve/main/tinycudann-1.7-cp310-cp310-linux_x86_64.whl\n",
        "!pip install -q git+https://github.com/NVlabs/nvdiffrast.git \n",
        "!pip install -q git+https://github.com/ashawkey/envlight.git \n",
        "!pip install -q git+https://github.com/openai/CLIP.git\n",
        "!pip install -q git+https://github.com/camenduru/MVDream"
      ]
    },
    {
      "cell_type": "code",
      "execution_count": null,
      "metadata": {},
      "outputs": [],
      "source": [
        "%cd /content/MVDream-threestudio\n",
        "prompt = \"a zoomed out DSLR photo of a baby bunny sitting on top of a stack of pancakes\"\n",
        "!python launch.py --config configs/dreamfusion-if.yaml --train --gpu 0 system.prompt_processor.prompt={prompt} trainer.max_steps=10000 system.prompt_processor.spawn=false"
      ]
    }
  ],
  "metadata": {
    "accelerator": "GPU",
    "colab": {
      "gpuType": "T4",
      "provenance": []
    },
    "kernelspec": {
      "display_name": "Python 3",
      "name": "python3"
    },
    "language_info": {
      "name": "python"
    }
  },
  "nbformat": 4,
  "nbformat_minor": 0
}
